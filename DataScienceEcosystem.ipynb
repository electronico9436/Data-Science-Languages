{
 "cells": [
  {
   "cell_type": "markdown",
   "id": "cb7452af-26f2-417b-9940-fba5b12391f8",
   "metadata": {},
   "source": [
    "<center>\n",
    "    <img src=\"https://cf-courses-data.s3.us.cloud-object-storage.appdomain.cloud/IBMDeveloperSkillsNetwork-DS0105EN-SkillsNetwork/labs/Module2/images/SN_web_lightmode.png\" width=\"300\" alt=\"cognitiveclass.ai logo\">\n",
    "</center>\n"
   ]
  },
  {
   "cell_type": "markdown",
   "id": "982b81c0-70b2-4261-8827-2097d7ee046b",
   "metadata": {},
   "source": [
    "#### Add your code below following the instructions given in the course\n"
   ]
  },
  {
   "cell_type": "markdown",
   "id": "d0d81187-7a92-4cb4-8ef1-3e6eb22cc61d",
   "metadata": {},
   "source": [
    "# Data Science Tools and Ecosystem"
   ]
  },
  {
   "cell_type": "markdown",
   "id": "7d52ca39-8764-4462-a41b-3ce53dc3d8e4",
   "metadata": {},
   "source": [
    "# In this notebook, Data Science Tools and Ecosystem are summarized."
   ]
  },
  {
   "cell_type": "markdown",
   "id": "933349ee-2c04-437f-94c2-83c97d34d8eb",
   "metadata": {
    "tags": []
   },
   "source": [
    "# Some of the popular data science languages that Data Scientists use are:\n",
    "1. Python\n",
    "2. R\n",
    "3. SQL\n",
    "4. julia\n",
    "5. java\n"
   ]
  },
  {
   "cell_type": "markdown",
   "id": "3080df8f-a365-4c05-9fcf-c57ba55b82c0",
   "metadata": {
    "tags": []
   },
   "source": [
    "# Some of the commonly used libraries used by Data Scientists include:\n",
    "1. Plotly\n",
    "2. ggplot2\n",
    "3. Keras\n",
    "4. NumPy\n",
    "5. Pandas\n",
    "6. Scikit-learn\n",
    "7. Matplotlib\n",
    "8. TensorFlow"
   ]
  },
  {
   "cell_type": "markdown",
   "id": "36e51fce-8220-4611-a311-642f2f3ef7f8",
   "metadata": {
    "tags": []
   },
   "source": [
    "|Data Science Tools|\n",
    "|---|\n",
    "|RStudio|\n",
    "|Jupyter Notebooks|\n",
    "|Github|"
   ]
  },
  {
   "cell_type": "markdown",
   "id": "f9bd6fb0-d8b4-46f4-a1e7-d6ebd1956595",
   "metadata": {
    "tags": []
   },
   "source": [
    "### Below are a few examples of evaluating arithmetic expressions in Python."
   ]
  },
  {
   "cell_type": "code",
   "execution_count": 4,
   "id": "64fae2a5-9d3a-4cea-9401-0a162831d696",
   "metadata": {
    "tags": []
   },
   "outputs": [
    {
     "data": {
      "text/plain": [
       "17"
      ]
     },
     "execution_count": 4,
     "metadata": {},
     "output_type": "execute_result"
    }
   ],
   "source": [
    "# This a simple arithmetic expression to multiply then add integers\n",
    "(3*4)+5\n"
   ]
  },
  {
   "cell_type": "code",
   "execution_count": 3,
   "id": "ec51dfab-22e4-475f-aa6b-88c4660bb45a",
   "metadata": {
    "tags": []
   },
   "outputs": [
    {
     "data": {
      "text/plain": [
       "3.3333333333333335"
      ]
     },
     "execution_count": 3,
     "metadata": {},
     "output_type": "execute_result"
    }
   ],
   "source": [
    "# This will convert 200 minutes to hours by dividing by 60\n",
    "200/60\n"
   ]
  },
  {
   "cell_type": "markdown",
   "id": "b31f19bf-cb71-40fa-8568-6e1776dabf4b",
   "metadata": {
    "tags": []
   },
   "source": [
    "**Objectives:**\n",
    "* List popular languages for Data Science.\n",
    "* Identify libraries used for Data Science.\n",
    "* Give examples of arithmetic expressions in Python."
   ]
  },
  {
   "cell_type": "markdown",
   "id": "4bf22fef-e3d1-46d0-8151-d9693bcc9288",
   "metadata": {
    "tags": []
   },
   "source": [
    "## Author\n",
    "Roberto Angulo"
   ]
  }
 ],
 "metadata": {
  "kernelspec": {
   "display_name": "Python",
   "language": "python",
   "name": "conda-env-python-py"
  },
  "language_info": {
   "codemirror_mode": {
    "name": "ipython",
    "version": 3
   },
   "file_extension": ".py",
   "mimetype": "text/x-python",
   "name": "python",
   "nbconvert_exporter": "python",
   "pygments_lexer": "ipython3",
   "version": "3.7.12"
  }
 },
 "nbformat": 4,
 "nbformat_minor": 5
}
