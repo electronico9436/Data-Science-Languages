{
 "cells": [
  {
   "cell_type": "markdown",
   "metadata": {},
   "source": [
    "<center>\n",
    "    <img src=\"https://cf-courses-data.s3.us.cloud-object-storage.appdomain.cloud/IBMDeveloperSkillsNetwork-DS0105EN-SkillsNetwork/labs/Module2/images/SN_web_lightmode.png\" width=\"300\" alt=\"cognitiveclass.ai logo\">\n",
    "</center>\n"
   ]
  },
  {
   "cell_type": "markdown",
   "metadata": {},
   "source": [
    "#### Add your code below following the instructions given in the course\n"
   ]
  },
  {
   "cell_type": "code",
   "execution_count": null,
   "metadata": {},
   "outputs": [],
   "source": [
    "# Final Project on Data Science"
   ]
  },
  {
   "cell_type": "code",
   "execution_count": null,
   "metadata": {},
   "outputs": [],
   "source": [
    "## Introduction\n",
    "\n",
    "In this final project, we will explore various key concepts and tools in the field of data science. We will cover everything from describing languages and libraries to implementing practical examples."
   ]
  },
  {
   "cell_type": "code",
   "execution_count": null,
   "metadata": {},
   "outputs": [],
   "source": [
    "## Data Science Languages\n",
    "\n",
    "1. Python\n",
    "2. R\n",
    "3. Julia\n",
    "4. SQL"
   ]
  },
  {
   "cell_type": "code",
   "execution_count": null,
   "metadata": {},
   "outputs": [],
   "source": [
    "## Data Science Libraries\n",
    "\n",
    "- Pandas\n",
    "- NumPy\n",
    "- Matplotlib\n",
    "- Scikit-learn\n",
    "- TensorFlow"
   ]
  },
  {
   "cell_type": "code",
   "execution_count": null,
   "metadata": {},
   "outputs": [],
   "source": [
    "## Data Science Tools\n",
    "\n",
    "| Tool              | Description                                     |\n",
    "|-------------------|-------------------------------------------------|\n",
    "| Jupyter Notebook  | Interactive environment for Python and others   |\n",
    "| RStudio           | IDE for R                                       |\n",
    "| Apache Spark      | Distributed data processing                     |\n",
    "| Tableau           | Data visualization software                     |\n",
    "| TensorFlow        | Google's machine learning library               |"
   ]
  },
  {
   "cell_type": "code",
   "execution_count": null,
   "metadata": {},
   "outputs": [],
   "source": [
    "## Examples of Arithmetic Expressions\n",
    "\n",
    "- Addition: \\( 2 + 3 \\)\n",
    "- Subtraction: \\( 10 - 5 \\)\n",
    "- Multiplication: \\( 4 \\times 6 \\)\n",
    "- Division: \\( \\frac{20}{4} \\)"
   ]
  },
  {
   "cell_type": "code",
   "execution_count": null,
   "metadata": {},
   "outputs": [],
   "source": [
    "# Code Cell\n",
    "a = 5\n",
    "b = 10\n",
    "\n",
    "sum_result = a + b\n",
    "product_result = a * b\n",
    "\n",
    "print(f\"The sum of a and b is: {sum_result}\")\n",
    "print(f\"The product of a and b is: {product_result}\")"
   ]
  },
  {
   "cell_type": "code",
   "execution_count": null,
   "metadata": {},
   "outputs": [],
   "source": [
    "# Code Cell\n",
    "minutes = 120\n",
    "hours = minutes / 60\n",
    "\n",
    "print(f\"{minutes} minutes are equivalent to {hours} hours.\")"
   ]
  },
  {
   "cell_type": "code",
   "execution_count": null,
   "metadata": {},
   "outputs": [],
   "source": [
    "# Code Cell\n",
    "print(\"Project Final Objectives:\")\n",
    "print(\"- Explore fundamental concepts of data science.\")\n",
    "print(\"- Apply data visualization and analysis techniques.\")\n",
    "print(\"- Utilize popular libraries for data analysis and modeling.\")"
   ]
  },
  {
   "cell_type": "code",
   "execution_count": null,
   "metadata": {},
   "outputs": [],
   "source": [
    "## Author\n",
    "\n",
    "- Name: [ROBERTO CARLOS ANGULO LOZANO]\n",
    "- Email: [roangulo94367@gmail.com]"
   ]
  }
 ],
 "metadata": {
  "kernelspec": {
   "display_name": "Python",
   "language": "python",
   "name": "conda-env-python-py"
  },
  "language_info": {
   "codemirror_mode": {
    "name": "ipython",
    "version": 3
   },
   "file_extension": ".py",
   "mimetype": "text/x-python",
   "name": "python",
   "nbconvert_exporter": "python",
   "pygments_lexer": "ipython3",
   "version": "3.7.12"
  }
 },
 "nbformat": 4,
 "nbformat_minor": 4
}
